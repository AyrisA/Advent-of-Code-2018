{
 "cells": [
  {
   "cell_type": "markdown",
   "metadata": {},
   "source": [
    "# Part 1\n",
    "After feeling like you've been falling for a few minutes, you look at the device's tiny screen. \"Error: Device must be calibrated before first use. Frequency drift detected. Cannot maintain destination lock.\" Below the message, the device shows a sequence of changes in frequency (your puzzle input). A value like +6 means the current frequency increases by 6; a value like -3 means the current frequency decreases by 3.\n",
    "\n",
    "For example, if the device displays frequency changes of +1, -2, +3, +1, then starting from a frequency of zero, the following changes would occur:\n",
    "\n",
    "Current frequency  0, change of +1; resulting frequency  1.<br>\n",
    "Current frequency  1, change of -2; resulting frequency -1.<br>\n",
    "Current frequency -1, change of +3; resulting frequency  2.<br>\n",
    "Current frequency  2, change of +1; resulting frequency  3.<br>\n",
    "In this example, the resulting frequency is 3.\n",
    "\n",
    "Here are other example situations:\n",
    "\n",
    "+1, +1, +1 results in  3<br>\n",
    "+1, +1, -2 results in  0<br>\n",
    "-1, -2, -3 results in -6<br>\n",
    "Starting with a frequency of zero, what is the resulting frequency after all of the changes in frequency have been applied?"
   ]
  },
  {
   "cell_type": "code",
   "execution_count": 126,
   "metadata": {},
   "outputs": [],
   "source": [
    "start = 0\n",
    "tests1 = [[1,1,1],[1,1,-2],[-1,-2,-3]]\n",
    "change = tests1[2]\n",
    "filein = 'input1_1.txt'"
   ]
  },
  {
   "cell_type": "code",
   "execution_count": 127,
   "metadata": {},
   "outputs": [],
   "source": [
    "with open(filein) as f:\n",
    "    data = f.read()\n",
    "f.closed\n",
    "change = [int(l) for l in data.splitlines()]"
   ]
  },
  {
   "cell_type": "code",
   "execution_count": 128,
   "metadata": {},
   "outputs": [
    {
     "name": "stdout",
     "output_type": "stream",
     "text": [
      "final:  437\n"
     ]
    }
   ],
   "source": [
    "current = start\n",
    "for c in change:\n",
    "    current += c\n",
    "print(\"final: \",current)"
   ]
  },
  {
   "cell_type": "markdown",
   "metadata": {},
   "source": [
    "# Part 2\n",
    "You notice that the device repeats the same frequency change list over and over. To calibrate the device, you need to find the first frequency it reaches twice.\n",
    "\n",
    "For example, using the same list of changes above, the device would loop as follows:\n",
    "\n",
    "Current frequency  0, change of +1; resulting frequency  1.<br>\n",
    "Current frequency  1, change of -2; resulting frequency -1.<br>\n",
    "Current frequency -1, change of +3; resulting frequency  2.<br>\n",
    "Current frequency  2, change of +1; resulting frequency  3.<br>\n",
    "(At this point, the device continues from the start of the list.)<br>\n",
    "Current frequency  3, change of +1; resulting frequency  4.<br>\n",
    "Current frequency  4, change of -2; resulting frequency  2, which has already been seen.<br>\n",
    "In this example, the first frequency reached twice is 2. Note that your device might need to repeat its list of frequency changes many times before a duplicate frequency is found, and that duplicates might be found while in the middle of processing the list.\n",
    "\n",
    "Here are other examples:\n",
    "\n",
    "+1, -1 first reaches 0 twice.<br>\n",
    "+3, +3, +4, -2, -4 first reaches 10 twice.<br>\n",
    "-6, +3, +8, +5, -6 first reaches 5 twice.<br>\n",
    "+7, +7, -2, -7, -4 first reaches 14 twice.<br>\n",
    "What is the first frequency your device reaches twice?"
   ]
  },
  {
   "cell_type": "code",
   "execution_count": 129,
   "metadata": {},
   "outputs": [
    {
     "name": "stdout",
     "output_type": "stream",
     "text": [
      "[[1, -2, 3, 1, 1, -2], [1, -1], [3, 3, 4, -2, -4], [-6, 3, 8, 5, -6], [7, 7, -2, -7, -4]]\n"
     ]
    }
   ],
   "source": [
    "tests2 = [[1,-2,3,1,1,-2],\n",
    "          [1,-1],\n",
    "          [3,3,4,-2,-4],\n",
    "          [-6,3,8,5,-6],\n",
    "          [7,7,-2,-7,-4]]\n",
    "print(tests2)"
   ]
  },
  {
   "cell_type": "code",
   "execution_count": 143,
   "metadata": {},
   "outputs": [],
   "source": [
    "change = tests2[4]\n",
    "change = [int(l) for l in data.splitlines()]"
   ]
  },
  {
   "cell_type": "code",
   "execution_count": 131,
   "metadata": {},
   "outputs": [
    {
     "name": "stdout",
     "output_type": "stream",
     "text": [
      "655\n"
     ]
    }
   ],
   "source": [
    "# current = start\n",
    "# frequencies = [current]\n",
    "# found = False\n",
    "# while found == False:\n",
    "#     for c in change:\n",
    "# #         print(current)\n",
    "#         current += c\n",
    "#         if current in frequencies:\n",
    "#             found = True\n",
    "#             repeatval = current\n",
    "#             break\n",
    "#         frequencies.append(current)\n",
    "# # print(frequencies)\n",
    "# print(repeatval)"
   ]
  },
  {
   "cell_type": "code",
   "execution_count": 144,
   "metadata": {},
   "outputs": [
    {
     "name": "stdout",
     "output_type": "stream",
     "text": [
      "655\n"
     ]
    }
   ],
   "source": [
    "# Faster with a set()\n",
    "current = start\n",
    "frequencies = set([current])\n",
    "found = False\n",
    "while found == False:\n",
    "    for c in change:\n",
    "        current += c\n",
    "        if current in frequencies:\n",
    "            found = True\n",
    "            repeatval = current\n",
    "            break\n",
    "        frequencies.add(current)\n",
    "print(repeatval)"
   ]
  }
 ],
 "metadata": {
  "kernelspec": {
   "display_name": "Python 3",
   "language": "python",
   "name": "python3"
  },
  "language_info": {
   "codemirror_mode": {
    "name": "ipython",
    "version": 3
   },
   "file_extension": ".py",
   "mimetype": "text/x-python",
   "name": "python",
   "nbconvert_exporter": "python",
   "pygments_lexer": "ipython3",
   "version": "3.6.5"
  }
 },
 "nbformat": 4,
 "nbformat_minor": 2
}
