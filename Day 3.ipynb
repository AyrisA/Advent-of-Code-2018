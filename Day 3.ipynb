{
 "cells": [
  {
   "cell_type": "markdown",
   "metadata": {},
   "source": [
    "# --- Day 3: No Matter How You Slice It ---\n",
    "The Elves managed to locate the chimney-squeeze prototype fabric for Santa's suit (thanks to someone who helpfully wrote its box IDs on the wall of the warehouse in the middle of the night). Unfortunately, anomalies are still affecting them - nobody can even agree on how to cut the fabric.\n",
    "\n",
    "The whole piece of fabric they're working on is a very large square - at least 1000 inches on each side.\n",
    "\n",
    "Each Elf has made a claim about which area of fabric would be ideal for Santa's suit. All claims have an ID and consist of a single rectangle with edges parallel to the edges of the fabric. Each claim's rectangle is defined as follows:\n",
    "\n",
    "The number of inches between the left edge of the fabric and the left edge of the rectangle.<br>\n",
    "The number of inches between the top edge of the fabric and the top edge of the rectangle.<br>\n",
    "The width of the rectangle in inches.<br>\n",
    "The height of the rectangle in inches.<br>\n",
    "A claim like #123 @ 3,2: 5x4 means that claim ID 123 specifies a rectangle 3 inches from the left edge, 2 inches from the top edge, 5 inches wide, and 4 inches tall. Visually, it claims the square inches of fabric represented by # (and ignores the square inches of fabric represented by .) in the diagram below:\n",
    "\n",
    "```\n",
    "...........\n",
    "...........\n",
    "...#####...\n",
    "...#####...\n",
    "...#####...\n",
    "...#####...\n",
    "...........\n",
    "...........\n",
    "...........\n",
    "```\n",
    "\n",
    "The problem is that many of the claims overlap, causing two or more claims to cover part of the same areas. For example, consider the following claims:\n",
    "\n",
    "```\n",
    "#1 @ 1,3: 4x4\n",
    "#2 @ 3,1: 4x4\n",
    "#3 @ 5,5: 2x2\n",
    "```\n",
    "Visually, these claim the following areas:\n",
    "```\n",
    "........\n",
    "...2222.\n",
    "...2222.\n",
    ".11XX22.\n",
    ".11XX22.\n",
    ".111133.\n",
    ".111133.\n",
    "........\n",
    "```\n",
    "The four square inches marked with X are claimed by both 1 and 2. (Claim 3, while adjacent to the others, does not overlap either of them.)\n",
    "\n",
    "If the Elves all proceed with their own plans, none of them will have enough fabric. How many square inches of fabric are within two or more claims?\n",
    "\n",
    "To begin, [get your puzzle input.](https://adventofcode.com/2018/day/3/input)"
   ]
  },
  {
   "cell_type": "code",
   "execution_count": 47,
   "metadata": {},
   "outputs": [],
   "source": [
    "filein = 'input3.txt'\n",
    "with open(filein) as f:\n",
    "    data = f.read()\n",
    "    \n",
    "f.closed\n",
    "\n",
    "\n",
    "test1 = ['#1 @ 1,3: 4x4',\n",
    "         '#2 @ 3,1: 4x4',\n",
    "         '#3 @ 5,5: 2x2']"
   ]
  },
  {
   "cell_type": "code",
   "execution_count": 154,
   "metadata": {},
   "outputs": [],
   "source": [
    "claims = data.splitlines()\n",
    "# claims = test1"
   ]
  },
  {
   "cell_type": "code",
   "execution_count": 150,
   "metadata": {},
   "outputs": [],
   "source": [
    "def claim2tuple(str):\n",
    "    id,remains = str.split('@')\n",
    "    id = id.lstrip('#')\n",
    "\n",
    "    pos,size = remains.split(':')\n",
    "    x,y = pos.split(',')\n",
    "    w,h = size.split('x')\n",
    "    ret = tuple(int(x) for x in (id,x,y,w,h))\n",
    "    \n",
    "    return ret\n",
    "\n",
    "def claimset(claimtuple):\n",
    "    from itertools import product\n",
    "    \n",
    "    id,x,y,w,h = claimtuple\n",
    "    arrays = [range(x,x+w),range(y,y+h)]\n",
    "    covered = set(product(*arrays))\n",
    "    \n",
    "    return covered"
   ]
  },
  {
   "cell_type": "code",
   "execution_count": 155,
   "metadata": {},
   "outputs": [
    {
     "name": "stdout",
     "output_type": "stream",
     "text": [
      "118322 square inches have conflicts.\n"
     ]
    }
   ],
   "source": [
    "claimed = set()\n",
    "conflicts = set()\n",
    "for c in claims:\n",
    "    cset = claimset(claim2tuple(c))\n",
    "    common  = claimed.intersection(cset)\n",
    "    if len(common) > 0:\n",
    "        conflicts.update(common)\n",
    "    claimed.update(cset)\n",
    "\n",
    "print('{num} square inches have conflicts.'.format(num=len(conflicts)))"
   ]
  },
  {
   "cell_type": "markdown",
   "metadata": {},
   "source": [
    "## --- Part Two ---\n",
    "\n",
    "Amidst the chaos, you notice that exactly one claim doesn't overlap by even a single square inch of fabric with any other claim. If you can somehow draw attention to it, maybe the Elves will be able to make Santa's suit after all!\n",
    "\n",
    "For example, in the claims above, only claim 3 is intact after all claims are made.\n",
    "\n",
    "What is the ID of the only claim that doesn't overlap?"
   ]
  },
  {
   "cell_type": "code",
   "execution_count": 156,
   "metadata": {},
   "outputs": [
    {
     "name": "stdout",
     "output_type": "stream",
     "text": [
      "ID 1178 doesn't overlap\n"
     ]
    }
   ],
   "source": [
    "# print(len(conflicts))\n",
    "# print(len(claimed))\n",
    "\n",
    "found = False\n",
    "for c in claims:\n",
    "    cset = claimset(claim2tuple(c))\n",
    "    if cset.isdisjoint(conflicts):\n",
    "        found = True\n",
    "        break\n",
    "    \n",
    "if not found:\n",
    "    print(\"there's a problem\")\n",
    "else:\n",
    "    id,x,y,w,h = claim2tuple(c)\n",
    "    print('ID {id} doesn\\'t overlap'.format(id=id))"
   ]
  },
  {
   "cell_type": "code",
   "execution_count": null,
   "metadata": {},
   "outputs": [],
   "source": []
  }
 ],
 "metadata": {
  "kernelspec": {
   "display_name": "Python 3",
   "language": "python",
   "name": "python3"
  },
  "language_info": {
   "codemirror_mode": {
    "name": "ipython",
    "version": 3
   },
   "file_extension": ".py",
   "mimetype": "text/x-python",
   "name": "python",
   "nbconvert_exporter": "python",
   "pygments_lexer": "ipython3",
   "version": "3.6.5"
  }
 },
 "nbformat": 4,
 "nbformat_minor": 2
}
