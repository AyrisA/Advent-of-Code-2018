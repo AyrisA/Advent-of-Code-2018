{
 "cells": [
  {
   "cell_type": "markdown",
   "metadata": {},
   "source": [
    "# --- Day 6: Chronal Coordinates ---\n",
    "The device on your wrist beeps several times, and once again you feel like you're falling.\n",
    "\n",
    "\"Situation critical,\" the device announces. \"Destination indeterminate. Chronal interference detected. Please specify new target coordinates.\"\n",
    "\n",
    "The device then produces a list of coordinates (your puzzle input). Are they places it thinks are safe or dangerous? It recommends you check manual page 729. The Elves did not give you a manual.\n",
    "\n",
    "If they're dangerous, maybe you can minimize the danger by finding the coordinate that gives the largest distance from the other points.\n",
    "\n",
    "Using only the Manhattan distance, determine the area around each coordinate by counting the number of integer X,Y locations that are closest to that coordinate (and aren't tied in distance to any other coordinate).\n",
    "\n",
    "Your goal is to find the size of the largest area that isn't infinite. For example, consider the following list of coordinates:\n",
    "\n",
    "```\n",
    "1, 1\n",
    "1, 6\n",
    "8, 3\n",
    "3, 4\n",
    "5, 5\n",
    "8, 9\n",
    "```\n",
    "If we name these coordinates A through F, we can draw them on a grid, putting 0,0 at the top left:\n",
    "```\n",
    "..........\n",
    ".A........\n",
    "..........\n",
    "........C.\n",
    "...D......\n",
    ".....E....\n",
    ".B........\n",
    "..........\n",
    "..........\n",
    "........F.\n",
    "```\n",
    "This view is partial - the actual grid extends infinitely in all directions. Using the Manhattan distance, each location's closest coordinate can be determined, shown here in lowercase:\n",
    "```\n",
    "aaaaa.cccc\n",
    "aAaaa.cccc\n",
    "aaaddecccc\n",
    "aadddeccCc\n",
    "..dDdeeccc\n",
    "bb.deEeecc\n",
    "bBb.eeee..\n",
    "bbb.eeefff\n",
    "bbb.eeffff\n",
    "bbb.ffffFf\n",
    "```\n",
    "Locations shown as . are equally far from two or more coordinates, and so they don't count as being closest to any.\n",
    "\n",
    "In this example, the areas of coordinates A, B, C, and F are infinite - while not shown here, their areas extend forever outside the visible grid. However, the areas of coordinates D and E are finite: D is closest to 9 locations, and E is closest to 17 (both including the coordinate's location itself). Therefore, in this example, the size of the largest area is 17.\n",
    "\n",
    "What is the size of the largest area that isn't infinite?"
   ]
  },
  {
   "cell_type": "code",
   "execution_count": 136,
   "metadata": {},
   "outputs": [],
   "source": [
    "test1 = [(1, 1),\n",
    "         (1, 6),\n",
    "         (8, 3),\n",
    "         (3, 4),\n",
    "         (5, 5),\n",
    "         (8, 9)]\n",
    "filein = 'input6.txt'\n",
    "with open(filein) as f:\n",
    "    data = list(map(lambda x: tuple(int(i) for i in x.split(',')), f.read().splitlines()))\n",
    "f.close()\n"
   ]
  },
  {
   "cell_type": "code",
   "execution_count": 155,
   "metadata": {},
   "outputs": [],
   "source": [
    "test = False\n",
    "if test:\n",
    "    coords = test1\n",
    "else:\n",
    "    coords = data"
   ]
  },
  {
   "cell_type": "code",
   "execution_count": 156,
   "metadata": {},
   "outputs": [],
   "source": [
    "#helper\n",
    "def mdist(p1,p2):\n",
    "    x1,y1 = p1\n",
    "    x2,y2 = p2\n",
    "    return abs(x2-x1)+abs(y2-y1)"
   ]
  },
  {
   "cell_type": "code",
   "execution_count": 157,
   "metadata": {},
   "outputs": [],
   "source": [
    "from collections import defaultdict\n",
    "\n",
    "#find bounding box\n",
    "xsortCoords = sorted(coords,key=lambda c: c[0])\n",
    "ysortCoords = sorted(coords,key=lambda c: c[1])\n",
    "xmin,xmax = xsortCoords[0][0],xsortCoords[-1][0]\n",
    "ymin,ymax = ysortCoords[0][1],ysortCoords[-1][1]\n",
    "\n",
    "grid = [[dict() for i in range(ymin,ymax+1)] for j in range(xmin,xmax+1)]\n",
    "gridsimple = [[None for i in range(ymin,ymax+1)] for j in range(xmin,xmax+1)]\n",
    "offset = (xmin,ymin)\n",
    "coord_index = list(map(lambda p: (p[0]-offset[0],p[1]-offset[1]),coords))\n",
    "\n",
    "# populate matrix with distances\n",
    "i = 0\n",
    "maxd = 0\n",
    "for c in coord_index:\n",
    "    x,y = c\n",
    "    for j in range(len(grid)):\n",
    "        for k in range(len(grid[0])):\n",
    "            d = mdist(c,(j,k))\n",
    "            grid[j][k][i] = d\n",
    "            if d> maxd:\n",
    "                maxd = d\n",
    "    i+=1\n",
    "\n",
    "    # find the closest areas\n",
    "idCounts = defaultdict(int)\n",
    "for j in range(len(grid)):\n",
    "    for k in range(len(grid[0])):\n",
    "        lowVal = maxd+1\n",
    "        for key,value in grid[j][k].items():\n",
    "            if value < lowVal:\n",
    "                lowVal = value\n",
    "                id = key\n",
    "            elif value == lowVal:\n",
    "                id = '.'\n",
    "        gridsimple[j][k] = id\n",
    "        idCounts[id]+=1\n",
    "\n",
    "# Find largest area not touching the edge (ie: not infinite)\n",
    "maxarea = 0\n",
    "for key,value in idCounts.items():\n",
    "    if key == '.':\n",
    "        continue\n",
    "        \n",
    "    c = coord_index[key]\n",
    "    if (c[0] == xmin) or (c[0] == xmax) or (c[1] == ymin) or (c[1] == ymax):\n",
    "        continue\n",
    "    \n",
    "    if value > maxarea:\n",
    "        maxarea = value\n"
   ]
  },
  {
   "cell_type": "code",
   "execution_count": 158,
   "metadata": {},
   "outputs": [
    {
     "data": {
      "text/plain": [
       "4887"
      ]
     },
     "execution_count": 158,
     "metadata": {},
     "output_type": "execute_result"
    }
   ],
   "source": [
    "gridsimple\n",
    "maxarea"
   ]
  },
  {
   "cell_type": "markdown",
   "metadata": {},
   "source": [
    "# --- Part Two ---\n",
    "On the other hand, if the coordinates are safe, maybe the best you can do is try to find a region near as many coordinates as possible.\n",
    "\n",
    "For example, suppose you want the sum of the Manhattan distance to all of the coordinates to be less than 32. For each location, add up the distances to all of the given coordinates; if the total of those distances is less than 32, that location is within the desired region. Using the same coordinates as above, the resulting region looks like this:\n",
    "```\n",
    "..........\n",
    ".A........\n",
    "..........\n",
    "...###..C.\n",
    "..#D###...\n",
    "..###E#...\n",
    ".B.###....\n",
    "..........\n",
    "..........\n",
    "........F.\n",
    "```\n",
    "In particular, consider the highlighted location 4,3 located at the top middle of the region. Its calculation is as follows, where abs() is the absolute value function:\n",
    "```\n",
    "Distance to coordinate A: abs(4-1) + abs(3-1) =  5\n",
    "Distance to coordinate B: abs(4-1) + abs(3-6) =  6\n",
    "Distance to coordinate C: abs(4-8) + abs(3-3) =  4\n",
    "Distance to coordinate D: abs(4-3) + abs(3-4) =  2\n",
    "Distance to coordinate E: abs(4-5) + abs(3-5) =  3\n",
    "Distance to coordinate F: abs(4-8) + abs(3-9) = 10\n",
    "Total distance: 5 + 6 + 4 + 2 + 3 + 10 = 30\n",
    "```\n",
    "Because the total distance to all coordinates (30) is less than 32, the location is within the region.\n",
    "\n",
    "This region, which also includes coordinates D and E, has a total size of 16.\n",
    "\n",
    "Your actual region will need to be much larger than this example, though, instead including all locations with a total distance of less than 10000.\n",
    "\n",
    "What is the size of the region containing all locations which have a total distance to all given coordinates of less than 10000?"
   ]
  },
  {
   "cell_type": "code",
   "execution_count": 162,
   "metadata": {},
   "outputs": [],
   "source": [
    "gridsum = [[0 for i in range(ymin,ymax+1)] for j in range(xmin,xmax+1)]\n",
    "if test:\n",
    "    dlimit = 32\n",
    "else:\n",
    "    dlimit = 10000\n",
    "\n",
    "# find the summed distances\n",
    "safearea = 0\n",
    "for j in range(len(grid)):\n",
    "    for k in range(len(grid[0])):\n",
    "        for key,value in grid[j][k].items():\n",
    "            gridsum[j][k] += value\n",
    "        \n",
    "        if gridsum[j][k] < dlimit:\n",
    "            safearea += 1\n",
    "        else:\n",
    "            gridsum[j][k] = '.'\n",
    "    "
   ]
  },
  {
   "cell_type": "code",
   "execution_count": 163,
   "metadata": {},
   "outputs": [
    {
     "data": {
      "text/plain": [
       "34096"
      ]
     },
     "execution_count": 163,
     "metadata": {},
     "output_type": "execute_result"
    }
   ],
   "source": [
    "gridsum\n",
    "safearea"
   ]
  },
  {
   "cell_type": "code",
   "execution_count": null,
   "metadata": {},
   "outputs": [],
   "source": []
  }
 ],
 "metadata": {
  "kernelspec": {
   "display_name": "Python 3",
   "language": "python",
   "name": "python3"
  },
  "language_info": {
   "codemirror_mode": {
    "name": "ipython",
    "version": 3
   },
   "file_extension": ".py",
   "mimetype": "text/x-python",
   "name": "python",
   "nbconvert_exporter": "python",
   "pygments_lexer": "ipython3",
   "version": "3.6.5"
  }
 },
 "nbformat": 4,
 "nbformat_minor": 2
}
