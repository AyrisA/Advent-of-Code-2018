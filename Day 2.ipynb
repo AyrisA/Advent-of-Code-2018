{
 "cells": [
  {
   "cell_type": "markdown",
   "metadata": {},
   "source": [
    "# --- Day 2: Inventory Management System ---\n",
    "\n",
    "You stop falling through time, catch your breath, and check the screen on the device. \"Destination reached. Current Year: 1518. Current Location: North Pole Utility Closet 83N10.\" You made it! Now, to find those anomalies.\n",
    "\n",
    "Outside the utility closet, you hear footsteps and a voice. \"...I'm not sure either. But now that so many people have chimneys, maybe he could sneak in that way?\" Another voice responds, \"Actually, we've been working on a new kind of suit that would let him fit through tight spaces like that. But, I heard that a few days ago, they lost the prototype fabric, the design plans, everything! Nobody on the team can even seem to remember important details of the project!\"\n",
    "\n",
    "\"Wouldn't they have had enough fabric to fill several boxes in the warehouse? They'd be stored together, so the box IDs should be similar. Too bad it would take forever to search the warehouse for two similar box IDs...\" They walk too far away to hear any more.\n",
    "\n",
    "Late at night, you sneak to the warehouse - who knows what kinds of paradoxes you could cause if you were discovered - and use your fancy wrist device to quickly scan every box and produce a list of the likely candidates (your puzzle input).\n",
    "\n",
    "To make sure you didn't miss any, you scan the likely candidate boxes again, counting the number that have an ID containing exactly two of any letter and then separately counting those with exactly three of any letter. You can multiply those two counts together to get a rudimentary checksum and compare it to what your device predicts.\n",
    "\n",
    "For example, if you see the following box IDs:\n",
    "\n",
    "abcdef contains no letters that appear exactly two or three times.<br>\n",
    "bababc contains two a and three b, so it counts for both.<br>\n",
    "abbcde contains two b, but no letter appears exactly three times.<br>\n",
    "abcccd contains three c, but no letter appears exactly two times.<br>\n",
    "aabcdd contains two a and two d, but it only counts once.<br>\n",
    "abcdee contains two e.<br>\n",
    "ababab contains three a and three b, but it only counts once.<br>\n",
    "Of these box IDs, four of them contain a letter which appears exactly twice, and three of them contain a letter which appears exactly three times. Multiplying these together produces a checksum of 4 * 3 = 12.\n",
    "\n",
    "What is the checksum for your list of box IDs?"
   ]
  },
  {
   "cell_type": "code",
   "execution_count": 39,
   "metadata": {},
   "outputs": [],
   "source": [
    "test1 = ['abcdef',\n",
    "        'bababc',\n",
    "        'abbcde',\n",
    "        'abcccd',\n",
    "        'aabcdd',\n",
    "        'abcdee',\n",
    "        'ababab']\n",
    "filein = 'input2_1.txt'"
   ]
  },
  {
   "cell_type": "code",
   "execution_count": 40,
   "metadata": {},
   "outputs": [],
   "source": [
    "with open(filein) as f:\n",
    "    data = f.read()\n",
    "f.closed\n",
    "input = data.splitlines()"
   ]
  },
  {
   "cell_type": "code",
   "execution_count": 41,
   "metadata": {},
   "outputs": [],
   "source": [
    "# idlist = test1\n",
    "idlist = input"
   ]
  },
  {
   "cell_type": "code",
   "execution_count": 42,
   "metadata": {},
   "outputs": [
    {
     "name": "stdout",
     "output_type": "stream",
     "text": [
      "checksum is:  8296\n"
     ]
    }
   ],
   "source": [
    "def match2(str):\n",
    "    ret = False\n",
    "    chars = list(str)\n",
    "    charset = set(str)\n",
    "    for c in charset:\n",
    "        if chars.count(c) == 2:\n",
    "            ret = True\n",
    "            break\n",
    "    return ret\n",
    "    \n",
    "def match3(str):\n",
    "    ret = False\n",
    "    chars = list(str)\n",
    "    charset = set(str)\n",
    "    for c in charset:\n",
    "        if chars.count(c) == 3:\n",
    "            ret = True\n",
    "            break\n",
    "    return ret\n",
    "\n",
    "set2 = 0\n",
    "set3 = 0\n",
    "for id in idlist:\n",
    "    if match2(id):\n",
    "        set2+=1\n",
    "    if match3(id):\n",
    "        set3+=1\n",
    "        \n",
    "print(\"checksum is: \",set2*set3)"
   ]
  },
  {
   "cell_type": "markdown",
   "metadata": {},
   "source": [
    "#    --- Part Two ---\n",
    "Confident that your list of box IDs is complete, you're ready to find the boxes full of prototype fabric.\n",
    "\n",
    "The boxes will have IDs which differ by exactly one character at the same position in both strings. For example, given the following box IDs:\n",
    "\n",
    "abcde<br>\n",
    "fghij<br>\n",
    "klmno<br>\n",
    "pqrst<br>\n",
    "fguij<br>\n",
    "axcye<br>\n",
    "wvxyz<br>\n",
    "The IDs abcde and axcye are close, but they differ by two characters (the second and fourth). However, the IDs fghij and fguij differ by exactly one character, the third (h and u). Those must be the correct boxes.\n",
    "\n",
    "What letters are common between the two correct box IDs? (In the example above, this is found by removing the differing character from either ID, producing fgij.)"
   ]
  },
  {
   "cell_type": "code",
   "execution_count": 43,
   "metadata": {},
   "outputs": [],
   "source": [
    "test2 = ['abcde',\n",
    "         'fghij',\n",
    "         'klmno',\n",
    "         'pqrst',\n",
    "         'fguij',\n",
    "         'axcye',\n",
    "         'wvxyz']"
   ]
  },
  {
   "cell_type": "code",
   "execution_count": 86,
   "metadata": {},
   "outputs": [],
   "source": [
    "# idlist = test2\n",
    "idlist = input"
   ]
  },
  {
   "cell_type": "code",
   "execution_count": 87,
   "metadata": {},
   "outputs": [
    {
     "name": "stdout",
     "output_type": "stream",
     "text": [
      "off by one:\n",
      "pazvmqbfjtrbeosiecxlghkwud\n",
      "pazvmqbfotrbeosiecxlghkwud \n",
      "\n",
      "common:  pazvmqbftrbeosiecxlghkwud\n"
     ]
    }
   ],
   "source": [
    "def matchcharpos(str1,str2,pos):\n",
    "    l1 = list(str1)\n",
    "    l2 = list(str2)\n",
    "    if l1[pos] == l2[pos]:\n",
    "        ret = True\n",
    "    else:\n",
    "        ret = False\n",
    "    return ret\n",
    "\n",
    "numIDs = len(idlist)\n",
    "lenID = len(idlist[0])\n",
    "found = False\n",
    "for i in range(numIDs-1):\n",
    "    for j in range(i+1,numIDs):\n",
    "        matchcount = 0\n",
    "        for k in range(lenID):\n",
    "            if matchcharpos(idlist[i],idlist[j],k):\n",
    "                matchcount+= 1\n",
    "        if matchcount == (lenID-1):\n",
    "            found = True\n",
    "            break\n",
    "    if found:\n",
    "        break\n",
    "\n",
    "if not found:\n",
    "    print(\"There is a problem\")\n",
    "else:\n",
    "    print(\"off by one:\")\n",
    "    print(idlist[i])\n",
    "    print(idlist[j],\"\\n\")\n",
    "\n",
    "    for k in range(lenID):\n",
    "        if not matchcharpos(idlist[i],idlist[j],k):\n",
    "            nonmatch = k\n",
    "            break\n",
    "           \n",
    "    id1 = list(idlist[i])\n",
    "    id1.pop(nonmatch)\n",
    "    print('common: ',''.join(id1))\n"
   ]
  },
  {
   "cell_type": "code",
   "execution_count": null,
   "metadata": {},
   "outputs": [],
   "source": []
  }
 ],
 "metadata": {
  "kernelspec": {
   "display_name": "Python 3",
   "language": "python",
   "name": "python3"
  },
  "language_info": {
   "codemirror_mode": {
    "name": "ipython",
    "version": 3
   },
   "file_extension": ".py",
   "mimetype": "text/x-python",
   "name": "python",
   "nbconvert_exporter": "python",
   "pygments_lexer": "ipython3",
   "version": "3.6.5"
  }
 },
 "nbformat": 4,
 "nbformat_minor": 2
}
