{
 "cells": [
  {
   "cell_type": "markdown",
   "metadata": {},
   "source": [
    "# --- Day 11: Chronal Charge ---\n",
    "You watch the Elves and their sleigh fade into the distance as they head toward the North Pole.\n",
    "\n",
    "Actually, you're the one fading. The falling sensation returns.\n",
    "\n",
    "The low fuel warning light is illuminated on your wrist-mounted device. Tapping it once causes it to project a hologram of the situation: a 300x300 grid of fuel cells and their current power levels, some negative. You're not sure what negative power means in the context of time travel, but it can't be good.\n",
    "\n",
    "Each fuel cell has a coordinate ranging from 1 to 300 in both the X (horizontal) and Y (vertical) direction. In X,Y notation, the top-left cell is 1,1, and the top-right cell is 300,1.\n",
    "\n",
    "The interface lets you select any 3x3 square of fuel cells. To increase your chances of getting to your destination, you decide to choose the 3x3 square with the largest total power.\n",
    "\n",
    "The power level in a given fuel cell can be found through the following process:\n",
    "```\n",
    "Find the fuel cell's rack ID, which is its X coordinate plus 10.\n",
    "Begin with a power level of the rack ID times the Y coordinate.\n",
    "Increase the power level by the value of the grid serial number (your puzzle input).\n",
    "Set the power level to itself multiplied by the rack ID.\n",
    "Keep only the hundreds digit of the power level (so 12345 becomes 3; numbers with no hundreds digit become 0).\n",
    "Subtract 5 from the power level.\n",
    "```\n",
    "For example, to find the power level of the fuel cell at 3,5 in a grid with serial number 8:\n",
    "```\n",
    "The rack ID is 3 + 10 = 13.\n",
    "The power level starts at 13 * 5 = 65.\n",
    "Adding the serial number produces 65 + 8 = 73.\n",
    "Multiplying by the rack ID produces 73 * 13 = 949.\n",
    "The hundreds digit of 949 is 9.\n",
    "Subtracting 5 produces 9 - 5 = 4.\n",
    "So, the power level of this fuel cell is 4.\n",
    "```\n",
    "Here are some more example power levels:\n",
    "```\n",
    "Fuel cell at  122,79, grid serial number 57: power level -5.\n",
    "Fuel cell at 217,196, grid serial number 39: power level  0.\n",
    "Fuel cell at 101,153, grid serial number 71: power level  4.\n",
    "```\n",
    "Your goal is to find the 3x3 square which has the largest total power. The square must be entirely within the 300x300 grid. Identify this square using the X,Y coordinate of its top-left fuel cell. For example:\n",
    "\n",
    "For grid serial number 18, the largest total 3x3 square has a top-left corner of 33,45 (with a total power of 29); these fuel cells appear in the middle of this 5x5 region:\n",
    "```\n",
    "-2  -4   4   4   4\n",
    "-4   4   4   4  -5\n",
    " 4   3   3   4  -4\n",
    " 1   1   2   4  -3\n",
    "-1   0   2  -5  -2\n",
    "```\n",
    "For grid serial number 42, the largest 3x3 square's top-left is 21,61 (with a total power of 30); they are in the middle of this region:\n",
    "```\n",
    "-3   4   2   2   2\n",
    "-4   4   3   3   4\n",
    "-5   3   3   4  -4\n",
    " 4   3   3   4  -3\n",
    " 3   3   3  -5  -1\n",
    "```\n",
    "What is the X,Y coordinate of the top-left fuel cell of the 3x3 square with the largest total power?\n",
    "\n",
    "Your puzzle input is 4842."
   ]
  },
  {
   "cell_type": "code",
   "execution_count": 50,
   "metadata": {},
   "outputs": [],
   "source": [
    "def makeGrid(serial):\n",
    "    grid = [[((y*(x+10))+serial)*(x+10) for y in range(1,301)] for x in range(1,301)]\n",
    "\n",
    "    for x in range(300):\n",
    "        for y in range(300):\n",
    "            nstring = str(grid[x][y])\n",
    "            if len(nstring) < 3:\n",
    "                val = 0\n",
    "            else:\n",
    "                val = int(nstring[-3])\n",
    "            grid[x][y] = val - 5\n",
    "    return grid\n",
    "\n",
    "def sum3x3(x,y,grid):\n",
    "    val = 0 \n",
    "    for i in range(3):\n",
    "        for j in range(3):\n",
    "            val += grid[x+i][y+j]\n",
    "    return val\n"
   ]
  },
  {
   "cell_type": "code",
   "execution_count": 52,
   "metadata": {},
   "outputs": [
    {
     "name": "stdout",
     "output_type": "stream",
     "text": [
      "For serial number 4842, the largest 3x3 is 20,83 (with a total power of 29)\n"
     ]
    }
   ],
   "source": [
    "serial = 4842\n",
    "# serial = 42\n",
    "grid = makeGrid(serial)\n",
    "\n",
    "maxval = 0\n",
    "xmax = 999\n",
    "ymax = 999\n",
    "for x in range(300-3):\n",
    "    for y in range(300-3):\n",
    "        sumVal= sum3x3(x,y,grid)\n",
    "        if sumVal > maxval:\n",
    "            maxval = sumVal\n",
    "            xmax = x+1\n",
    "            ymax = y+1\n",
    "\n",
    "print('For serial number {s}, the largest 3x3 is {x},{y} (with a total power of {t})'.format(s=serial,x=xmax,y=ymax,t=maxval))"
   ]
  },
  {
   "cell_type": "markdown",
   "metadata": {},
   "source": [
    "# --- Part Two ---\n",
    "You discover a dial on the side of the device; it seems to let you select a square of any size, not just 3x3. Sizes from 1x1 to 300x300 are supported.\n",
    "\n",
    "Realizing this, you now must find the square of any size with the largest total power. Identify this square by including its size as a third parameter after the top-left coordinate: a 9x9 square with a top-left corner of 3,5 is identified as 3,5,9.\n",
    "\n",
    "For example:\n",
    "\n",
    "For grid serial number 18, the largest total square (with a total power of 113) is 16x16 and has a top-left corner of 90,269, so its identifier is 90,269,16.\n",
    "\n",
    "For grid serial number 42, the largest total square (with a total power of 119) is 12x12 and has a top-left corner of 232,251, so its identifier is 232,251,12.\n",
    "\n",
    "What is the X,Y,size identifier of the square with the largest total power?\n",
    "\n",
    "Your puzzle input is still 4842."
   ]
  },
  {
   "cell_type": "code",
   "execution_count": 120,
   "metadata": {},
   "outputs": [],
   "source": [
    "def sumSquare(x,y,sz,grid):\n",
    "    val = 0 \n",
    "    for i in range(sz):\n",
    "        val += sum(grid[x+i][y:y+sz])\n",
    "    return val\n",
    "\n",
    "def findMaxSquare(sz,grid):\n",
    "    maxval = 0\n",
    "    for x in range(300-sz):\n",
    "        for y in range(300-sz):\n",
    "            sumVal= sumSquare(x,y,sz,grid)\n",
    "            if sumVal > maxval:\n",
    "                maxval = sumVal\n",
    "                xmax = x+1\n",
    "                ymax = y+1\n",
    "    return(maxval,xmax,ymax,sz)"
   ]
  },
  {
   "cell_type": "code",
   "execution_count": 125,
   "metadata": {},
   "outputs": [
    {
     "name": "stdout",
     "output_type": "stream",
     "text": [
      "Size is:  1\n",
      "New max:  (4, 1, 6, 1)\n",
      "Size is:  2\n",
      "New max:  (16, 21, 208, 2)\n",
      "Size is:  3\n",
      "New max:  (29, 20, 83, 3)\n",
      "Size is:  4\n",
      "New max:  (40, 20, 33, 4)\n",
      "Size is:  5\n",
      "New max:  (52, 233, 104, 5)\n",
      "Size is:  6\n",
      "New max:  (61, 232, 103, 6)\n",
      "Size is:  7\n",
      "New max:  (75, 233, 103, 7)\n",
      "Size is:  8\n",
      "New max:  (82, 232, 103, 8)\n",
      "Size is:  9\n",
      "New max:  (93, 238, 282, 9)\n",
      "Size is:  10\n",
      "New max:  (96, 237, 281, 10)\n",
      "Size is:  11\n",
      "Size is:  12\n",
      "Size is:  13\n",
      "Size is:  14\n",
      "Size is:  15\n",
      "Size is:  16\n",
      "Size is:  17\n",
      "Size is:  18\n",
      "Size is:  19\n",
      "Size is:  20\n",
      "Size is:  21\n",
      "Size is:  22\n",
      "Size is:  23\n"
     ]
    },
    {
     "ename": "UnboundLocalError",
     "evalue": "local variable 'xmax' referenced before assignment",
     "output_type": "error",
     "traceback": [
      "\u001b[1;31m---------------------------------------------------------------------------\u001b[0m",
      "\u001b[1;31mUnboundLocalError\u001b[0m                         Traceback (most recent call last)",
      "\u001b[1;32m<ipython-input-125-0e9035a30e93>\u001b[0m in \u001b[0;36m<module>\u001b[1;34m()\u001b[0m\n\u001b[0;32m      6\u001b[0m \u001b[1;32mfor\u001b[0m \u001b[0mk\u001b[0m \u001b[1;32min\u001b[0m \u001b[0mrange\u001b[0m\u001b[1;33m(\u001b[0m\u001b[1;36m1\u001b[0m\u001b[1;33m,\u001b[0m\u001b[1;36m301\u001b[0m\u001b[1;33m)\u001b[0m\u001b[1;33m:\u001b[0m\u001b[1;33m\u001b[0m\u001b[0m\n\u001b[0;32m      7\u001b[0m     \u001b[0mprint\u001b[0m\u001b[1;33m(\u001b[0m\u001b[1;34m'Size is: '\u001b[0m\u001b[1;33m,\u001b[0m\u001b[0mk\u001b[0m\u001b[1;33m)\u001b[0m\u001b[1;33m\u001b[0m\u001b[0m\n\u001b[1;32m----> 8\u001b[1;33m     \u001b[1;33m(\u001b[0m\u001b[0mloc_max\u001b[0m\u001b[1;33m,\u001b[0m\u001b[0mx\u001b[0m\u001b[1;33m,\u001b[0m\u001b[0my\u001b[0m\u001b[1;33m,\u001b[0m\u001b[0msz\u001b[0m\u001b[1;33m)\u001b[0m \u001b[1;33m=\u001b[0m \u001b[0mfindMaxSquare\u001b[0m\u001b[1;33m(\u001b[0m\u001b[0mk\u001b[0m\u001b[1;33m,\u001b[0m\u001b[0mgrid\u001b[0m\u001b[1;33m)\u001b[0m\u001b[1;33m\u001b[0m\u001b[0m\n\u001b[0m\u001b[0;32m      9\u001b[0m     \u001b[1;32mif\u001b[0m \u001b[0mloc_max\u001b[0m \u001b[1;33m>\u001b[0m \u001b[0mgl_max\u001b[0m\u001b[1;33m:\u001b[0m\u001b[1;33m\u001b[0m\u001b[0m\n\u001b[0;32m     10\u001b[0m         \u001b[0mgl_max\u001b[0m \u001b[1;33m=\u001b[0m \u001b[0mloc_max\u001b[0m\u001b[1;33m\u001b[0m\u001b[0m\n",
      "\u001b[1;32m<ipython-input-120-13f108590eca>\u001b[0m in \u001b[0;36mfindMaxSquare\u001b[1;34m(sz, grid)\u001b[0m\n\u001b[0;32m     14\u001b[0m                 \u001b[0mxmax\u001b[0m \u001b[1;33m=\u001b[0m \u001b[0mx\u001b[0m\u001b[1;33m+\u001b[0m\u001b[1;36m1\u001b[0m\u001b[1;33m\u001b[0m\u001b[0m\n\u001b[0;32m     15\u001b[0m                 \u001b[0mymax\u001b[0m \u001b[1;33m=\u001b[0m \u001b[0my\u001b[0m\u001b[1;33m+\u001b[0m\u001b[1;36m1\u001b[0m\u001b[1;33m\u001b[0m\u001b[0m\n\u001b[1;32m---> 16\u001b[1;33m     \u001b[1;32mreturn\u001b[0m\u001b[1;33m(\u001b[0m\u001b[0mmaxval\u001b[0m\u001b[1;33m,\u001b[0m\u001b[0mxmax\u001b[0m\u001b[1;33m,\u001b[0m\u001b[0mymax\u001b[0m\u001b[1;33m,\u001b[0m\u001b[0msz\u001b[0m\u001b[1;33m)\u001b[0m\u001b[1;33m\u001b[0m\u001b[0m\n\u001b[0m",
      "\u001b[1;31mUnboundLocalError\u001b[0m: local variable 'xmax' referenced before assignment"
     ]
    }
   ],
   "source": [
    "serial = 4842\n",
    "# serial = 42\n",
    "grid = makeGrid(serial)\n",
    "\n",
    "gl_max = 0\n",
    "for k in range(1,301):\n",
    "    print('Size is: ',k)\n",
    "    (loc_max,x,y,sz) = findMaxSquare(k,grid)\n",
    "    if loc_max > gl_max:\n",
    "        gl_max = loc_max\n",
    "        newrecord = (loc_max,x,y,sz)\n",
    "        print(\"New max: \",newrecord)\n"
   ]
  },
  {
   "cell_type": "markdown",
   "metadata": {},
   "source": [
    "There's got to be a better way . . . "
   ]
  },
  {
   "cell_type": "code",
   "execution_count": null,
   "metadata": {},
   "outputs": [],
   "source": []
  }
 ],
 "metadata": {
  "kernelspec": {
   "display_name": "Python 3",
   "language": "python",
   "name": "python3"
  },
  "language_info": {
   "codemirror_mode": {
    "name": "ipython",
    "version": 3
   },
   "file_extension": ".py",
   "mimetype": "text/x-python",
   "name": "python",
   "nbconvert_exporter": "python",
   "pygments_lexer": "ipython3",
   "version": "3.6.5"
  }
 },
 "nbformat": 4,
 "nbformat_minor": 2
}
